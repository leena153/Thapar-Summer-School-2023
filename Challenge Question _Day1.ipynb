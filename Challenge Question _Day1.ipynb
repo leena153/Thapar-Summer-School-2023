{
 "cells": [
  {
   "attachments": {},
   "cell_type": "markdown",
   "metadata": {},
   "source": [
    "Challenge Question"
   ]
  },
  {
   "cell_type": "code",
   "execution_count": 1,
   "metadata": {},
   "outputs": [
    {
     "name": "stdout",
     "output_type": "stream",
     "text": [
      "[1, 2, 3, 'Ram', 'Shyam', 'Aman']\n"
     ]
    }
   ],
   "source": [
    "L = [\"Ram\", 1, \"Shyam\", 2, \"Aman\", 3]\n",
    "\n",
    "# Define a custom sorting key\n",
    "def sorting_key(element):\n",
    "    if isinstance(element, int):\n",
    "        # Sort integers before strings\n",
    "        return 0\n",
    "    elif isinstance(element, str):\n",
    "        # Sort strings after integers\n",
    "        return 1\n",
    "\n",
    "# Sort the list using the custom sorting key\n",
    "sorted_list = sorted(L, key=sorting_key)\n",
    "\n",
    "# Print the sorted list\n",
    "print(sorted_list)\n"
   ]
  }
 ],
 "metadata": {
  "kernelspec": {
   "display_name": "Python 3",
   "language": "python",
   "name": "python3"
  },
  "language_info": {
   "codemirror_mode": {
    "name": "ipython",
    "version": 3
   },
   "file_extension": ".py",
   "mimetype": "text/x-python",
   "name": "python",
   "nbconvert_exporter": "python",
   "pygments_lexer": "ipython3",
   "version": "3.11.2"
  },
  "orig_nbformat": 4
 },
 "nbformat": 4,
 "nbformat_minor": 2
}
