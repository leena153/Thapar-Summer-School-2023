{
 "cells": [
  {
   "attachments": {},
   "cell_type": "markdown",
   "metadata": {},
   "source": [
    "Question 1"
   ]
  },
  {
   "cell_type": "code",
   "execution_count": 34,
   "metadata": {},
   "outputs": [
    {
     "name": "stdout",
     "output_type": "stream",
     "text": [
      "[11, 12, 13, 14, 50, 60]\n"
     ]
    }
   ],
   "source": [
    "L = [11, 12, 13, 14]\n",
    "L.append(50)\n",
    "L.append(60)\n",
    "print(L)\n"
   ]
  },
  {
   "cell_type": "code",
   "execution_count": 35,
   "metadata": {},
   "outputs": [
    {
     "name": "stdout",
     "output_type": "stream",
     "text": [
      "[12, 14]\n"
     ]
    }
   ],
   "source": [
    "L = [11, 12, 13, 14]\n",
    "L.remove(11)\n",
    "L.remove(13)\n",
    "print(L)\n"
   ]
  },
  {
   "cell_type": "code",
   "execution_count": 36,
   "metadata": {},
   "outputs": [
    {
     "name": "stdout",
     "output_type": "stream",
     "text": [
      "[11, 12, 13, 14]\n"
     ]
    }
   ],
   "source": [
    "L = [11, 12, 13, 14]\n",
    "L.sort()\n",
    "print(L)\n"
   ]
  },
  {
   "cell_type": "code",
   "execution_count": 37,
   "metadata": {},
   "outputs": [
    {
     "name": "stdout",
     "output_type": "stream",
     "text": [
      "[14, 13, 12, 11]\n"
     ]
    }
   ],
   "source": [
    "L = [11, 12, 13, 14]\n",
    "L.sort(reverse=True)\n",
    "print(L)\n"
   ]
  },
  {
   "cell_type": "code",
   "execution_count": 38,
   "metadata": {},
   "outputs": [
    {
     "name": "stdout",
     "output_type": "stream",
     "text": [
      "13 is present in the list.\n"
     ]
    }
   ],
   "source": [
    "L = [11, 12, 13, 14]\n",
    "if 13 in L:\n",
    "    print(\"13 is present in the list.\")\n",
    "else:\n",
    "    print(\"13 is not present in the list.\")\n"
   ]
  },
  {
   "cell_type": "code",
   "execution_count": 39,
   "metadata": {},
   "outputs": [
    {
     "name": "stdout",
     "output_type": "stream",
     "text": [
      "Number of elements in L: 4\n"
     ]
    }
   ],
   "source": [
    "L = [11, 12, 13, 14]\n",
    "count = len(L)\n",
    "print(\"Number of elements in L:\", count)\n"
   ]
  },
  {
   "cell_type": "code",
   "execution_count": 40,
   "metadata": {},
   "outputs": [
    {
     "name": "stdout",
     "output_type": "stream",
     "text": [
      "Sum of elements in L: 50\n"
     ]
    }
   ],
   "source": [
    "L = [11, 12, 13, 14]\n",
    "sum_of_elements = sum(L)\n",
    "print(\"Sum of elements in L:\", sum_of_elements)\n"
   ]
  },
  {
   "cell_type": "code",
   "execution_count": 41,
   "metadata": {},
   "outputs": [
    {
     "name": "stdout",
     "output_type": "stream",
     "text": [
      "Sum of odd numbers in L: 24\n"
     ]
    }
   ],
   "source": [
    "L = [11, 12, 13, 14]\n",
    "sum_of_odd_numbers = sum(num for num in L if num % 2 != 0)\n",
    "print(\"Sum of odd numbers in L:\", sum_of_odd_numbers)\n"
   ]
  },
  {
   "cell_type": "code",
   "execution_count": 42,
   "metadata": {},
   "outputs": [
    {
     "name": "stdout",
     "output_type": "stream",
     "text": [
      "Sum of even numbers in L: 26\n"
     ]
    }
   ],
   "source": [
    "L = [11, 12, 13, 14]\n",
    "sum_of_even_numbers = sum(num for num in L if num % 2 == 0)\n",
    "print(\"Sum of even numbers in L:\", sum_of_even_numbers)\n"
   ]
  },
  {
   "cell_type": "code",
   "execution_count": 43,
   "metadata": {},
   "outputs": [
    {
     "name": "stdout",
     "output_type": "stream",
     "text": [
      "Sum of prime numbers in L: 24\n"
     ]
    }
   ],
   "source": [
    "L = [11, 12, 13, 14]\n",
    "\n",
    "def is_prime(num):\n",
    "    if num < 2:\n",
    "        return False\n",
    "    for i in range(2, int(num ** 0.5) + 1):\n",
    "        if num % i == 0:\n",
    "            return False\n",
    "    return True\n",
    "\n",
    "sum_of_prime_numbers = sum(num for num in L if is_prime(num))\n",
    "print(\"Sum of prime numbers in L:\", sum_of_prime_numbers)\n"
   ]
  },
  {
   "cell_type": "code",
   "execution_count": 44,
   "metadata": {},
   "outputs": [
    {
     "name": "stdout",
     "output_type": "stream",
     "text": [
      "[]\n"
     ]
    }
   ],
   "source": [
    "L = [11, 12, 13, 14]\n",
    "L.clear()\n",
    "print(L)\n"
   ]
  },
  {
   "attachments": {},
   "cell_type": "markdown",
   "metadata": {},
   "source": [
    "Question2"
   ]
  },
  {
   "cell_type": "code",
   "execution_count": 45,
   "metadata": {},
   "outputs": [
    {
     "name": "stdout",
     "output_type": "stream",
     "text": [
      "{1: 5.6, 2: 7.8, 3: 6.6, 4: 8.7, 5: 7.7, 8: 8.8}\n"
     ]
    }
   ],
   "source": [
    "D = {1: 5.6, 2: 7.8, 3: 6.6, 4: 8.7, 5: 7.7}\n",
    "D[8] = 8.8\n",
    "print(D)\n"
   ]
  },
  {
   "cell_type": "code",
   "execution_count": 46,
   "metadata": {},
   "outputs": [
    {
     "name": "stdout",
     "output_type": "stream",
     "text": [
      "{1: 5.6, 3: 6.6, 4: 8.7, 5: 7.7}\n"
     ]
    }
   ],
   "source": [
    "D = {1: 5.6, 2: 7.8, 3: 6.6, 4: 8.7, 5: 7.7}\n",
    "del D[2]\n",
    "print(D)\n"
   ]
  },
  {
   "cell_type": "code",
   "execution_count": 47,
   "metadata": {},
   "outputs": [
    {
     "name": "stdout",
     "output_type": "stream",
     "text": [
      "Key 6 is not present in the dictionary.\n"
     ]
    }
   ],
   "source": [
    "D = {1: 5.6, 2: 7.8, 3: 6.6, 4: 8.7, 5: 7.7}\n",
    "if 6 in D:\n",
    "    print(\"Key 6 is present in the dictionary.\")\n",
    "else:\n",
    "    print(\"Key 6 is not present in the dictionary.\")\n"
   ]
  },
  {
   "cell_type": "code",
   "execution_count": 48,
   "metadata": {},
   "outputs": [
    {
     "name": "stdout",
     "output_type": "stream",
     "text": [
      "Number of elements in D: 5\n"
     ]
    }
   ],
   "source": [
    "D = {1: 5.6, 2: 7.8, 3: 6.6, 4: 8.7, 5: 7.7}\n",
    "count = len(D)\n",
    "print(\"Number of elements in D:\", count)\n"
   ]
  },
  {
   "cell_type": "code",
   "execution_count": 49,
   "metadata": {},
   "outputs": [
    {
     "name": "stdout",
     "output_type": "stream",
     "text": [
      "Sum of values in D: 36.4\n"
     ]
    }
   ],
   "source": [
    "D = {1: 5.6, 2: 7.8, 3: 6.6, 4: 8.7, 5: 7.7}\n",
    "sum_of_values = sum(D.values())\n",
    "print(\"Sum of values in D:\", sum_of_values)\n"
   ]
  },
  {
   "cell_type": "code",
   "execution_count": 50,
   "metadata": {},
   "outputs": [
    {
     "name": "stdout",
     "output_type": "stream",
     "text": [
      "{1: 5.6, 2: 7.8, 3: 7.1, 4: 8.7, 5: 7.7}\n"
     ]
    }
   ],
   "source": [
    "D = {1: 5.6, 2: 7.8, 3: 6.6, 4: 8.7, 5: 7.7}\n",
    "D[3] = 7.1\n",
    "print(D)\n"
   ]
  },
  {
   "cell_type": "code",
   "execution_count": 51,
   "metadata": {},
   "outputs": [
    {
     "name": "stdout",
     "output_type": "stream",
     "text": [
      "{}\n"
     ]
    }
   ],
   "source": [
    "D = {1: 5.6, 2: 7.8, 3: 6.6, 4: 8.7, 5: 7.7}\n",
    "D.clear()\n",
    "print(D)\n"
   ]
  },
  {
   "attachments": {},
   "cell_type": "markdown",
   "metadata": {},
   "source": [
    "Question3"
   ]
  },
  {
   "cell_type": "code",
   "execution_count": 52,
   "metadata": {},
   "outputs": [
    {
     "name": "stdout",
     "output_type": "stream",
     "text": [
      "{50, 66, 20, 55, 40, 10, 60, 30}\n"
     ]
    }
   ],
   "source": [
    "S1 = {10, 20, 30, 40, 50, 60}\n",
    "S1.add(55)\n",
    "S1.add(66)\n",
    "print(S1)\n"
   ]
  },
  {
   "cell_type": "code",
   "execution_count": 53,
   "metadata": {},
   "outputs": [
    {
     "name": "stdout",
     "output_type": "stream",
     "text": [
      "{50, 20, 40, 60}\n"
     ]
    }
   ],
   "source": [
    "S1 = {10, 20, 30, 40, 50, 60}\n",
    "S1.remove(10)\n",
    "S1.remove(30)\n",
    "print(S1)\n"
   ]
  },
  {
   "cell_type": "code",
   "execution_count": 54,
   "metadata": {},
   "outputs": [
    {
     "name": "stdout",
     "output_type": "stream",
     "text": [
      "40 is present in the set.\n"
     ]
    }
   ],
   "source": [
    "S1 = {10, 20, 30, 40, 50, 60}\n",
    "if 40 in S1:\n",
    "    print(\"40 is present in the set.\")\n",
    "else:\n",
    "    print(\"40 is not present in the set.\")\n"
   ]
  },
  {
   "cell_type": "code",
   "execution_count": 55,
   "metadata": {},
   "outputs": [
    {
     "name": "stdout",
     "output_type": "stream",
     "text": [
      "Union of S1 and S2: {70, 40, 10, 80, 50, 20, 90, 60, 30}\n"
     ]
    }
   ],
   "source": [
    "S1 = {10, 20, 30, 40, 50, 60}\n",
    "S2 = {40, 50, 60, 70, 80, 90}\n",
    "union_set = S1.union(S2)\n",
    "print(\"Union of S1 and S2:\", union_set)\n"
   ]
  },
  {
   "cell_type": "code",
   "execution_count": 56,
   "metadata": {},
   "outputs": [
    {
     "name": "stdout",
     "output_type": "stream",
     "text": [
      "Intersection of S1 and S2: {40, 50, 60}\n"
     ]
    }
   ],
   "source": [
    "S1 = {10, 20, 30, 40, 50, 60}\n",
    "S2 = {40, 50, 60, 70, 80, 90}\n",
    "intersection_set = S1.intersection(S2)\n",
    "print(\"Intersection of S1 and S2:\", intersection_set)\n"
   ]
  },
  {
   "cell_type": "code",
   "execution_count": 57,
   "metadata": {},
   "outputs": [
    {
     "name": "stdout",
     "output_type": "stream",
     "text": [
      "Difference between S1 and S2: {10, 20, 30}\n"
     ]
    }
   ],
   "source": [
    "S1 = {10, 20, 30, 40, 50, 60}\n",
    "S2 = {40, 50, 60, 70, 80, 90}\n",
    "difference_set = S1.difference(S2)\n",
    "print(\"Difference between S1 and S2:\", difference_set)\n"
   ]
  },
  {
   "attachments": {},
   "cell_type": "markdown",
   "metadata": {},
   "source": [
    "Question4"
   ]
  },
  {
   "cell_type": "code",
   "execution_count": 58,
   "metadata": {},
   "outputs": [
    {
     "name": "stdout",
     "output_type": "stream",
     "text": [
      "foqijkmx\n",
      "dgjvrsz\n",
      "cnfhrmli\n",
      "ewhxiz\n",
      "pglfikf\n",
      "euflbbry\n",
      "tbtiwviy\n",
      "jrckncm\n",
      "pmrutu\n",
      "fnwgvoh\n",
      "cvhcalx\n",
      "honmusvh\n",
      "bwjfsmvc\n",
      "kwxbht\n",
      "kurlfy\n",
      "zfahrrwk\n",
      "vcekjqo\n",
      "rtimzv\n",
      "nuarky\n",
      "tdfroiz\n",
      "faqrxrn\n",
      "tpkdmn\n",
      "wkclrfbq\n",
      "guaotfd\n",
      "wokdkuod\n",
      "apzlvgc\n",
      "auejprto\n",
      "cmtcvhu\n",
      "uzkkajd\n",
      "dzgqwhr\n",
      "nmfjmlh\n",
      "zmehbcde\n",
      "asnaho\n",
      "pyjsmll\n",
      "jlklcm\n",
      "ctpfhro\n",
      "lehvncg\n",
      "mtypvduo\n",
      "dvwpzfs\n",
      "rigqze\n",
      "nykqjtxv\n",
      "qxfjqj\n",
      "iwvmpssg\n",
      "pehmsluq\n",
      "todrdo\n",
      "ihqhaigy\n",
      "lghkjfyz\n",
      "ksapyc\n",
      "unwbwm\n",
      "imlbsnwt\n",
      "gkevkywq\n",
      "flumjzh\n",
      "fqeqdvv\n",
      "kivddiv\n",
      "aduvlds\n",
      "ylgamyw\n",
      "zjrcfnry\n",
      "mcqmls\n",
      "hdtpyvjv\n",
      "yjaxfdya\n",
      "djuzbucp\n",
      "ljncucw\n",
      "ouugjha\n",
      "vnttnzwg\n",
      "thgiug\n",
      "fnngojf\n",
      "pjkpbc\n",
      "vphrvhz\n",
      "smlljjz\n",
      "zwqifcl\n",
      "cyuxbwhc\n",
      "jtpppo\n",
      "qtxxjhqp\n",
      "pvhwbui\n",
      "vjfvgl\n",
      "mqioax\n",
      "djnmtem\n",
      "twsioj\n",
      "ockwici\n",
      "kvfrfip\n",
      "lvezsh\n",
      "mnqlipj\n",
      "rfyeai\n",
      "nozxesbm\n",
      "barhdl\n",
      "mvmpphwg\n",
      "livackdf\n",
      "jgmmfaec\n",
      "yabuaoh\n",
      "wmjxjonf\n",
      "gntqgzsk\n",
      "rtmdhrc\n",
      "ieqtkzl\n",
      "lheyhyhx\n",
      "vztugp\n",
      "vyeorgny\n",
      "gohmxc\n",
      "ypvwymkp\n",
      "dykrnri\n",
      "mmoapzu\n"
     ]
    }
   ],
   "source": [
    "import random\n",
    "import string\n",
    "\n",
    "for _ in range(100):\n",
    "    length = random.randint(6, 8)\n",
    "    random_string = ''.join(random.choices(string.ascii_lowercase, k=length))\n",
    "    print(random_string)\n"
   ]
  },
  {
   "cell_type": "code",
   "execution_count": 59,
   "metadata": {},
   "outputs": [
    {
     "name": "stdout",
     "output_type": "stream",
     "text": [
      "601\n",
      "607\n",
      "613\n",
      "617\n",
      "619\n",
      "631\n",
      "641\n",
      "643\n",
      "647\n",
      "653\n",
      "659\n",
      "661\n",
      "673\n",
      "677\n",
      "683\n",
      "691\n",
      "701\n",
      "709\n",
      "719\n",
      "727\n",
      "733\n",
      "739\n",
      "743\n",
      "751\n",
      "757\n",
      "761\n",
      "769\n",
      "773\n",
      "787\n",
      "797\n"
     ]
    }
   ],
   "source": [
    "def is_prime(num):\n",
    "    if num < 2:\n",
    "        return False\n",
    "    for i in range(2, int(num ** 0.5) + 1):\n",
    "        if num % i == 0:\n",
    "            return False\n",
    "    return True\n",
    "\n",
    "for num in range(600, 801):\n",
    "    if is_prime(num):\n",
    "        print(num)\n"
   ]
  },
  {
   "cell_type": "code",
   "execution_count": 60,
   "metadata": {},
   "outputs": [
    {
     "name": "stdout",
     "output_type": "stream",
     "text": [
      "126\n",
      "189\n",
      "252\n",
      "315\n",
      "378\n",
      "441\n",
      "504\n",
      "567\n",
      "630\n",
      "693\n",
      "756\n",
      "819\n",
      "882\n",
      "945\n"
     ]
    }
   ],
   "source": [
    "for num in range(100, 1001):\n",
    "    if num % 7 == 0 and num % 9 == 0:\n",
    "        print(num)\n"
   ]
  },
  {
   "attachments": {},
   "cell_type": "markdown",
   "metadata": {},
   "source": [
    "Quetsion5"
   ]
  },
  {
   "cell_type": "code",
   "execution_count": 61,
   "metadata": {},
   "outputs": [
    {
     "name": "stdout",
     "output_type": "stream",
     "text": [
      "Common numbers: {10, 12, 15, 18, 23}\n"
     ]
    }
   ],
   "source": [
    "import random\n",
    "\n",
    "list1 = random.sample(range(10, 31), 10)\n",
    "list2 = random.sample(range(10, 31), 10)\n",
    "\n",
    "common_numbers = set(list1).intersection(list2)\n",
    "print(\"Common numbers:\", common_numbers)\n"
   ]
  },
  {
   "cell_type": "code",
   "execution_count": 62,
   "metadata": {},
   "outputs": [
    {
     "name": "stdout",
     "output_type": "stream",
     "text": [
      "Unique numbers: {11, 14, 16, 19, 20, 21, 24, 25, 26, 30}\n"
     ]
    }
   ],
   "source": [
    "unique_numbers = set(list1).symmetric_difference(list2)\n",
    "print(\"Unique numbers:\", unique_numbers)\n"
   ]
  },
  {
   "cell_type": "code",
   "execution_count": 63,
   "metadata": {},
   "outputs": [
    {
     "name": "stdout",
     "output_type": "stream",
     "text": [
      "Minimum in list1: 10\n",
      "Minimum in list2: 10\n"
     ]
    }
   ],
   "source": [
    "minimum_list1 = min(list1)\n",
    "minimum_list2 = min(list2)\n",
    "print(\"Minimum in list1:\", minimum_list1)\n",
    "print(\"Minimum in list2:\", minimum_list2)\n"
   ]
  },
  {
   "cell_type": "code",
   "execution_count": 64,
   "metadata": {},
   "outputs": [
    {
     "name": "stdout",
     "output_type": "stream",
     "text": [
      "Maximum in list1: 25\n",
      "Maximum in list2: 30\n"
     ]
    }
   ],
   "source": [
    "maximum_list1 = max(list1)\n",
    "maximum_list2 = max(list2)\n",
    "print(\"Maximum in list1:\", maximum_list1)\n",
    "print(\"Maximum in list2:\", maximum_list2)\n"
   ]
  },
  {
   "cell_type": "code",
   "execution_count": 65,
   "metadata": {},
   "outputs": [
    {
     "name": "stdout",
     "output_type": "stream",
     "text": [
      "Sum of list1: 173\n",
      "Sum of list2: 189\n"
     ]
    }
   ],
   "source": [
    "sum_list1 = sum(list1)\n",
    "sum_list2 = sum(list2)\n",
    "print(\"Sum of list1:\", sum_list1)\n",
    "print(\"Sum of list2:\", sum_list2)\n"
   ]
  },
  {
   "cell_type": "code",
   "execution_count": 66,
   "metadata": {},
   "outputs": [
    {
     "name": "stdout",
     "output_type": "stream",
     "text": [
      "Odd numbers: [249, 803, 563, 307, 735, 333, 779, 743, 807, 547, 845, 315, 553, 703, 715, 177, 301, 381, 781, 877, 753, 337, 729, 239, 279, 543, 443, 195, 749, 851, 415, 165, 661, 821, 477, 425, 503, 111, 299, 465, 571, 485, 229, 853, 869, 183, 201, 209, 291, 697, 551, 611, 453, 369]\n",
      "Even numbers: [544, 778, 260, 372, 206, 160, 394, 454, 864, 610, 370, 532, 262, 478, 182, 542, 236, 130, 814, 482, 346, 692, 178, 756, 690, 250, 174, 366, 324, 752, 874, 528, 888, 378, 402, 598, 614, 244, 796, 704, 228, 110, 414, 710, 602, 154]\n",
      "Prime numbers: [563, 307, 743, 547, 877, 337, 239, 443, 661, 821, 503, 571, 229, 853]\n"
     ]
    }
   ],
   "source": [
    "#question6\n",
    "import random\n",
    "\n",
    "numbers = random.sample(range(100, 901), 100)\n",
    "\n",
    "# (i) All odd numbers\n",
    "odd_numbers = [num for num in numbers if num % 2 != 0]\n",
    "print(\"Odd numbers:\", odd_numbers)\n",
    "\n",
    "# (ii) All even numbers\n",
    "even_numbers = [num for num in numbers if num % 2 == 0]\n",
    "print(\"Even numbers:\", even_numbers)\n",
    "\n",
    "# (iii) All prime numbers\n",
    "def is_prime(num):\n",
    "    if num < 2:\n",
    "        return False\n",
    "    for i in range(2, int(num ** 0.5) + 1):\n",
    "        if num % i == 0:\n",
    "            return False\n",
    "    return True\n",
    "\n",
    "prime_numbers = [num for num in numbers if is_prime(num)]\n",
    "print(\"Prime numbers:\", prime_numbers)\n"
   ]
  },
  {
   "cell_type": "code",
   "execution_count": 67,
   "metadata": {},
   "outputs": [],
   "source": [
    "#question7\n",
    "D = {1: \"One\", 2: \"Two\", 3: \"Three\", 4: \"Four\", 5: \"Five\"}\n",
    "\n",
    "with open(\"dictionary.txt\", \"w\") as file:\n",
    "    for key, value in D.items():\n",
    "        file.write(f\"{key}, {value}\\n\")\n"
   ]
  },
  {
   "cell_type": "code",
   "execution_count": 68,
   "metadata": {},
   "outputs": [],
   "source": [
    "#question8\n",
    "L = [\"One\", \"Two\", \"Three\", \"Four\", \"Five\"]\n",
    "\n",
    "with open(\"length.txt\", \"w\") as file:\n",
    "    for element in L:\n",
    "        length = len(element)\n",
    "        file.write(f\"{element}, {length}\\n\")\n"
   ]
  },
  {
   "cell_type": "code",
   "execution_count": 69,
   "metadata": {},
   "outputs": [],
   "source": [
    "#question9\n",
    "import random\n",
    "import string\n",
    "\n",
    "with open(\"random_strings.txt\", \"w\") as file:\n",
    "    for _ in range(100):\n",
    "        length = random.randint(10, 15)\n",
    "        random_string = ''.join(random.choices(string.ascii_lowercase, k=length))\n",
    "        file.write(random_string + \"\\n\")\n"
   ]
  },
  {
   "cell_type": "code",
   "execution_count": 70,
   "metadata": {},
   "outputs": [],
   "source": [
    "#question10\n",
    "def is_prime(num):\n",
    "    if num < 2:\n",
    "        return False\n",
    "    for i in range(2, int(num ** 0.5) + 1):\n",
    "        if num % i == 0:\n",
    "            return False\n",
    "    return True\n",
    "\n",
    "with open(\"prime_numbers.txt\", \"w\") as file:\n",
    "    for num in range(600, 801):\n",
    "        if is_prime(num):\n",
    "            file.write(str(num) + \"\\n\")\n"
   ]
  },
  {
   "cell_type": "code",
   "execution_count": 71,
   "metadata": {},
   "outputs": [
    {
     "name": "stdout",
     "output_type": "stream",
     "text": [
      "Time taken: 0.0 seconds\n"
     ]
    }
   ],
   "source": [
    "#question11\n",
    "import time\n",
    "\n",
    "start_time = time.time()\n",
    "\n",
    "# Your program code here\n",
    "\n",
    "end_time = time.time()\n",
    "execution_time = end_time - start_time\n",
    "print(\"Time taken:\", execution_time, \"seconds\")\n"
   ]
  },
  {
   "cell_type": "code",
   "execution_count": 72,
   "metadata": {},
   "outputs": [
    {
     "data": {
      "image/png": "[encoded data removed]",
      "text/plain": [
       "<Figure size 640x480 with 1 Axes>"
      ]
     },
     "metadata": {},
     "output_type": "display_data"
    }
   ],
   "source": [
    "#question12\n",
    "import time\n",
    "import matplotlib.pyplot as plt\n",
    "\n",
    "def sort_list(numbers):\n",
    "    start_time = time.time()\n",
    "    sorted_list = sorted(numbers)\n",
    "    end_time = time.time()\n",
    "    execution_time = end_time - start_time\n",
    "    return sorted_list, execution_time\n",
    "\n",
    "num_elements = [5000, 10000, 15000, 20000, 25000]\n",
    "execution_times = []\n",
    "\n",
    "for n in num_elements:\n",
    "    numbers = random.sample(range(1, n+1), n)\n",
    "    _, execution_time = sort_list(numbers)\n",
    "    execution_times.append(execution_time)\n",
    "\n",
    "plt.plot(num_elements, execution_times)\n",
    "plt.xlabel(\"Number of Elements\")\n",
    "plt.ylabel(\"Time Taken (seconds)\")\n",
    "plt.show()\n"
   ]
  },
  {
   "cell_type": "code",
   "execution_count": 73,
   "metadata": {},
   "outputs": [
    {
     "name": "stdout",
     "output_type": "stream",
     "text": [
      "Student with maximum average marks: John\n",
      "Student with minimum average marks: Alice\n"
     ]
    }
   ],
   "source": [
    "#question13\n",
    "student_marks = {\n",
    "    \"John\": [90, 85, 92, 88, 95],\n",
    "    \"Alice\": [78, 80, 85, 82, 90],\n",
    "    \"Bob\": [95, 88, 92, 78, 85],\n",
    "    \"Emma\": [88, 90, 85, 82, 92]\n",
    "}\n",
    "\n",
    "average_marks = {student: sum(marks)/len(marks) for student, marks in student_marks.items()}\n",
    "\n",
    "max_average = max(average_marks, key=average_marks.get)\n",
    "min_average = min(average_marks, key=average_marks.get)\n",
    "\n",
    "print(\"Student with maximum average marks:\", max_average)\n",
    "print(\"Student with minimum average marks:\", min_average)\n"
   ]
  }
 ],
 "metadata": {
  "kernelspec": {
   "display_name": "Python 3",
   "language": "python",
   "name": "python3"
  },
  "language_info": {
   "codemirror_mode": {
    "name": "ipython",
    "version": 3
   },
   "file_extension": ".py",
   "mimetype": "text/x-python",
   "name": "python",
   "nbconvert_exporter": "python",
   "pygments_lexer": "ipython3",
   "version": "3.11.2"
  },
  "orig_nbformat": 4
 },
 "nbformat": 4,
 "nbformat_minor": 2
}
